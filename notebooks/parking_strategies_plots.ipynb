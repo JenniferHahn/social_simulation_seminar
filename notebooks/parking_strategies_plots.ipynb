{
  "nbformat": 4,
  "nbformat_minor": 0,
  "metadata": {
    "colab": {
      "name": "parking-strategies-plots.ipynb",
      "provenance": [],
      "collapsed_sections": []
    },
    "kernelspec": {
      "name": "python3",
      "display_name": "Python 3"
    },
    "language_info": {
      "name": "python"
    }
  },
  "cells": [
    {
      "cell_type": "code",
      "execution_count": 1,
      "metadata": {
        "id": "D4j85Y-nmGV7",
        "colab": {
          "base_uri": "https://localhost:8080/"
        },
        "outputId": "97583666-bb59-4c60-cb50-e0bb26c49894"
      },
      "outputs": [
        {
          "output_type": "stream",
          "name": "stdout",
          "text": [
            "Mounted at /content/drive\n"
          ]
        }
      ],
      "source": [
        "# TASK 1: Analysis of step-one performance retrieval.\n",
        "# First thing, start easy: build two-indexes, evaluate them top-m retrievals\n",
        "# Hit-once and Hit-all. Then see other metrics like precision & recall + Roni's analysis.\n",
        "# from google.colab import drive\n",
        "# drive.mount('/content/drive')\n",
        "# cleaning sample_data directory\n",
        "# !rm -r sample_data"
      ]
    },
    {
      "cell_type": "code",
      "source": [
        "import pandas as pd\n",
        "import numpy as np\n",
        "import matplotlib.pyplot as plt\n",
        "import seaborn as sns"
      ],
      "metadata": {
        "id": "5UIpSmnRRaVf"
      },
      "execution_count": 2,
      "outputs": []
    },
    {
      "cell_type": "code",
      "source": [
        "# loading the csv file\n",
        "stats500 = pd.read_csv('../social_simulation_seminar/models/test_2.csv.csv')\n",
        "stats600 = pd.read_csv('../social_simulation_seminar/models/cars600.csv')\n",
        "stats300 = pd.read_csv('../social_simulation_seminar/models/cars300.csv')"
      ],
      "metadata": {
        "id": "rpTkdOXkRbSo"
      },
      "execution_count": 3,
      "outputs": []
    },
    {
      "cell_type": "code",
      "source": [
        "all_stats500 = stats500[(stats500['wants-to-park']==True) & (stats500['price-paid']!= -99)]\n",
        "all_stats600 = stats600[(stats600['wants-to-park']==True) & (stats600['price-paid']!= -99)]\n",
        "all_stats300 = stats300[(stats300['wants-to-park']==True) & (stats300['price-paid']!= -99)]"
      ],
      "metadata": {
        "id": "XBgkiI_9S1Tc"
      },
      "execution_count": 4,
      "outputs": []
    },
    {
      "cell_type": "code",
      "source": [
        "strategy500 = all_stats500.groupby('agent-strategy-flag').mean().reset_index()\n",
        "strategy500 = strategy500.rename(columns = {'agent-strategy-flag':'Strategy', 'utility-value':'Avg Utility'})\n",
        "strategy500"
      ],
      "metadata": {
        "id": "_zW6UjmFJCOA",
        "colab": {
          "base_uri": "https://localhost:8080/",
          "height": 368
        },
        "outputId": "aaa0e2c9-2c27-4fbf-d3b4-5ad61850c46b"
      },
      "execution_count": 5,
      "outputs": [
        {
          "output_type": "execute_result",
          "data": {
            "text/plain": [
              "   Strategy           id        income  income-group       wtp  \\\n",
              "0         1  2624.288889  31023.579236      1.000000  4.751396   \n",
              "1         2  1830.960000  26033.900209      0.840000  4.242904   \n",
              "2         3  2579.200000  28475.627262      0.950000  5.153455   \n",
              "3         4  2018.150000  28505.290961      0.950000  5.252856   \n",
              "4         5  2462.812500  28301.233167      1.000000  5.169986   \n",
              "5         6  1992.282609  27748.360845      0.869565  4.370815   \n",
              "6         7  2359.764706  29760.416196      0.882353  4.592880   \n",
              "\n",
              "   parking-offender?  distance-parking-target  price-paid  search-time  \\\n",
              "0           0.288889                15.785868    4.744444   598.155556   \n",
              "1           0.120000                13.120309    5.100000   536.360000   \n",
              "2           0.150000                16.161029    4.137500   560.300000   \n",
              "3           0.350000                18.183581    4.062500   555.000000   \n",
              "4           0.125000                19.595101    3.250000   556.187500   \n",
              "5           0.282609                19.180683    4.141304   486.652174   \n",
              "6           0.352941                27.973333    2.323529   593.705882   \n",
              "\n",
              "   wants-to-park  die?  reinitialize?  Avg Utility  mean-utility  \\\n",
              "0            1.0   1.0            1.0    -0.126207     -0.290388   \n",
              "1            1.0   1.0            1.0    -0.127682     -0.292458   \n",
              "2            1.0   1.0            1.0    -0.181398     -0.288790   \n",
              "3            1.0   1.0            1.0    -0.148802     -0.297077   \n",
              "4            1.0   1.0            1.0    -0.141194     -0.286487   \n",
              "5            1.0   1.0            1.0    -0.174540     -0.292752   \n",
              "6            1.0   1.0            1.0    -0.101765     -0.294054   \n",
              "\n",
              "   informed-flag  wait-time    park-time  switch-strategy-flag  \n",
              "0       1.466667        0.0  3484.259903                0.0000  \n",
              "1       1.640000        0.0  3782.272678                0.0000  \n",
              "2       1.650000        0.0  3134.391996                0.0000  \n",
              "3       1.450000        0.0  3727.083706                0.0000  \n",
              "4       1.437500        0.0  3865.997383                0.0625  \n",
              "5       0.000000        0.0  3302.891630                0.0000  \n",
              "6       0.000000        0.0  3189.505575                0.0000  "
            ],
            "text/html": [
              "\n",
              "  <div id=\"df-ebcdcadc-7d8b-4c2a-b8c8-165ecd40c0cc\">\n",
              "    <div class=\"colab-df-container\">\n",
              "      <div>\n",
              "<style scoped>\n",
              "    .dataframe tbody tr th:only-of-type {\n",
              "        vertical-align: middle;\n",
              "    }\n",
              "\n",
              "    .dataframe tbody tr th {\n",
              "        vertical-align: top;\n",
              "    }\n",
              "\n",
              "    .dataframe thead th {\n",
              "        text-align: right;\n",
              "    }\n",
              "</style>\n",
              "<table border=\"1\" class=\"dataframe\">\n",
              "  <thead>\n",
              "    <tr style=\"text-align: right;\">\n",
              "      <th></th>\n",
              "      <th>Strategy</th>\n",
              "      <th>id</th>\n",
              "      <th>income</th>\n",
              "      <th>income-group</th>\n",
              "      <th>wtp</th>\n",
              "      <th>parking-offender?</th>\n",
              "      <th>distance-parking-target</th>\n",
              "      <th>price-paid</th>\n",
              "      <th>search-time</th>\n",
              "      <th>wants-to-park</th>\n",
              "      <th>die?</th>\n",
              "      <th>reinitialize?</th>\n",
              "      <th>Avg Utility</th>\n",
              "      <th>mean-utility</th>\n",
              "      <th>informed-flag</th>\n",
              "      <th>wait-time</th>\n",
              "      <th>park-time</th>\n",
              "      <th>switch-strategy-flag</th>\n",
              "    </tr>\n",
              "  </thead>\n",
              "  <tbody>\n",
              "    <tr>\n",
              "      <th>0</th>\n",
              "      <td>1</td>\n",
              "      <td>2624.288889</td>\n",
              "      <td>31023.579236</td>\n",
              "      <td>1.000000</td>\n",
              "      <td>4.751396</td>\n",
              "      <td>0.288889</td>\n",
              "      <td>15.785868</td>\n",
              "      <td>4.744444</td>\n",
              "      <td>598.155556</td>\n",
              "      <td>1.0</td>\n",
              "      <td>1.0</td>\n",
              "      <td>1.0</td>\n",
              "      <td>-0.126207</td>\n",
              "      <td>-0.290388</td>\n",
              "      <td>1.466667</td>\n",
              "      <td>0.0</td>\n",
              "      <td>3484.259903</td>\n",
              "      <td>0.0000</td>\n",
              "    </tr>\n",
              "    <tr>\n",
              "      <th>1</th>\n",
              "      <td>2</td>\n",
              "      <td>1830.960000</td>\n",
              "      <td>26033.900209</td>\n",
              "      <td>0.840000</td>\n",
              "      <td>4.242904</td>\n",
              "      <td>0.120000</td>\n",
              "      <td>13.120309</td>\n",
              "      <td>5.100000</td>\n",
              "      <td>536.360000</td>\n",
              "      <td>1.0</td>\n",
              "      <td>1.0</td>\n",
              "      <td>1.0</td>\n",
              "      <td>-0.127682</td>\n",
              "      <td>-0.292458</td>\n",
              "      <td>1.640000</td>\n",
              "      <td>0.0</td>\n",
              "      <td>3782.272678</td>\n",
              "      <td>0.0000</td>\n",
              "    </tr>\n",
              "    <tr>\n",
              "      <th>2</th>\n",
              "      <td>3</td>\n",
              "      <td>2579.200000</td>\n",
              "      <td>28475.627262</td>\n",
              "      <td>0.950000</td>\n",
              "      <td>5.153455</td>\n",
              "      <td>0.150000</td>\n",
              "      <td>16.161029</td>\n",
              "      <td>4.137500</td>\n",
              "      <td>560.300000</td>\n",
              "      <td>1.0</td>\n",
              "      <td>1.0</td>\n",
              "      <td>1.0</td>\n",
              "      <td>-0.181398</td>\n",
              "      <td>-0.288790</td>\n",
              "      <td>1.650000</td>\n",
              "      <td>0.0</td>\n",
              "      <td>3134.391996</td>\n",
              "      <td>0.0000</td>\n",
              "    </tr>\n",
              "    <tr>\n",
              "      <th>3</th>\n",
              "      <td>4</td>\n",
              "      <td>2018.150000</td>\n",
              "      <td>28505.290961</td>\n",
              "      <td>0.950000</td>\n",
              "      <td>5.252856</td>\n",
              "      <td>0.350000</td>\n",
              "      <td>18.183581</td>\n",
              "      <td>4.062500</td>\n",
              "      <td>555.000000</td>\n",
              "      <td>1.0</td>\n",
              "      <td>1.0</td>\n",
              "      <td>1.0</td>\n",
              "      <td>-0.148802</td>\n",
              "      <td>-0.297077</td>\n",
              "      <td>1.450000</td>\n",
              "      <td>0.0</td>\n",
              "      <td>3727.083706</td>\n",
              "      <td>0.0000</td>\n",
              "    </tr>\n",
              "    <tr>\n",
              "      <th>4</th>\n",
              "      <td>5</td>\n",
              "      <td>2462.812500</td>\n",
              "      <td>28301.233167</td>\n",
              "      <td>1.000000</td>\n",
              "      <td>5.169986</td>\n",
              "      <td>0.125000</td>\n",
              "      <td>19.595101</td>\n",
              "      <td>3.250000</td>\n",
              "      <td>556.187500</td>\n",
              "      <td>1.0</td>\n",
              "      <td>1.0</td>\n",
              "      <td>1.0</td>\n",
              "      <td>-0.141194</td>\n",
              "      <td>-0.286487</td>\n",
              "      <td>1.437500</td>\n",
              "      <td>0.0</td>\n",
              "      <td>3865.997383</td>\n",
              "      <td>0.0625</td>\n",
              "    </tr>\n",
              "    <tr>\n",
              "      <th>5</th>\n",
              "      <td>6</td>\n",
              "      <td>1992.282609</td>\n",
              "      <td>27748.360845</td>\n",
              "      <td>0.869565</td>\n",
              "      <td>4.370815</td>\n",
              "      <td>0.282609</td>\n",
              "      <td>19.180683</td>\n",
              "      <td>4.141304</td>\n",
              "      <td>486.652174</td>\n",
              "      <td>1.0</td>\n",
              "      <td>1.0</td>\n",
              "      <td>1.0</td>\n",
              "      <td>-0.174540</td>\n",
              "      <td>-0.292752</td>\n",
              "      <td>0.000000</td>\n",
              "      <td>0.0</td>\n",
              "      <td>3302.891630</td>\n",
              "      <td>0.0000</td>\n",
              "    </tr>\n",
              "    <tr>\n",
              "      <th>6</th>\n",
              "      <td>7</td>\n",
              "      <td>2359.764706</td>\n",
              "      <td>29760.416196</td>\n",
              "      <td>0.882353</td>\n",
              "      <td>4.592880</td>\n",
              "      <td>0.352941</td>\n",
              "      <td>27.973333</td>\n",
              "      <td>2.323529</td>\n",
              "      <td>593.705882</td>\n",
              "      <td>1.0</td>\n",
              "      <td>1.0</td>\n",
              "      <td>1.0</td>\n",
              "      <td>-0.101765</td>\n",
              "      <td>-0.294054</td>\n",
              "      <td>0.000000</td>\n",
              "      <td>0.0</td>\n",
              "      <td>3189.505575</td>\n",
              "      <td>0.0000</td>\n",
              "    </tr>\n",
              "  </tbody>\n",
              "</table>\n",
              "</div>\n",
              "      <button class=\"colab-df-convert\" onclick=\"convertToInteractive('df-ebcdcadc-7d8b-4c2a-b8c8-165ecd40c0cc')\"\n",
              "              title=\"Convert this dataframe to an interactive table.\"\n",
              "              style=\"display:none;\">\n",
              "        \n",
              "  <svg xmlns=\"http://www.w3.org/2000/svg\" height=\"24px\"viewBox=\"0 0 24 24\"\n",
              "       width=\"24px\">\n",
              "    <path d=\"M0 0h24v24H0V0z\" fill=\"none\"/>\n",
              "    <path d=\"M18.56 5.44l.94 2.06.94-2.06 2.06-.94-2.06-.94-.94-2.06-.94 2.06-2.06.94zm-11 1L8.5 8.5l.94-2.06 2.06-.94-2.06-.94L8.5 2.5l-.94 2.06-2.06.94zm10 10l.94 2.06.94-2.06 2.06-.94-2.06-.94-.94-2.06-.94 2.06-2.06.94z\"/><path d=\"M17.41 7.96l-1.37-1.37c-.4-.4-.92-.59-1.43-.59-.52 0-1.04.2-1.43.59L10.3 9.45l-7.72 7.72c-.78.78-.78 2.05 0 2.83L4 21.41c.39.39.9.59 1.41.59.51 0 1.02-.2 1.41-.59l7.78-7.78 2.81-2.81c.8-.78.8-2.07 0-2.86zM5.41 20L4 18.59l7.72-7.72 1.47 1.35L5.41 20z\"/>\n",
              "  </svg>\n",
              "      </button>\n",
              "      \n",
              "  <style>\n",
              "    .colab-df-container {\n",
              "      display:flex;\n",
              "      flex-wrap:wrap;\n",
              "      gap: 12px;\n",
              "    }\n",
              "\n",
              "    .colab-df-convert {\n",
              "      background-color: #E8F0FE;\n",
              "      border: none;\n",
              "      border-radius: 50%;\n",
              "      cursor: pointer;\n",
              "      display: none;\n",
              "      fill: #1967D2;\n",
              "      height: 32px;\n",
              "      padding: 0 0 0 0;\n",
              "      width: 32px;\n",
              "    }\n",
              "\n",
              "    .colab-df-convert:hover {\n",
              "      background-color: #E2EBFA;\n",
              "      box-shadow: 0px 1px 2px rgba(60, 64, 67, 0.3), 0px 1px 3px 1px rgba(60, 64, 67, 0.15);\n",
              "      fill: #174EA6;\n",
              "    }\n",
              "\n",
              "    [theme=dark] .colab-df-convert {\n",
              "      background-color: #3B4455;\n",
              "      fill: #D2E3FC;\n",
              "    }\n",
              "\n",
              "    [theme=dark] .colab-df-convert:hover {\n",
              "      background-color: #434B5C;\n",
              "      box-shadow: 0px 1px 3px 1px rgba(0, 0, 0, 0.15);\n",
              "      filter: drop-shadow(0px 1px 2px rgba(0, 0, 0, 0.3));\n",
              "      fill: #FFFFFF;\n",
              "    }\n",
              "  </style>\n",
              "\n",
              "      <script>\n",
              "        const buttonEl =\n",
              "          document.querySelector('#df-ebcdcadc-7d8b-4c2a-b8c8-165ecd40c0cc button.colab-df-convert');\n",
              "        buttonEl.style.display =\n",
              "          google.colab.kernel.accessAllowed ? 'block' : 'none';\n",
              "\n",
              "        async function convertToInteractive(key) {\n",
              "          const element = document.querySelector('#df-ebcdcadc-7d8b-4c2a-b8c8-165ecd40c0cc');\n",
              "          const dataTable =\n",
              "            await google.colab.kernel.invokeFunction('convertToInteractive',\n",
              "                                                     [key], {});\n",
              "          if (!dataTable) return;\n",
              "\n",
              "          const docLinkHtml = 'Like what you see? Visit the ' +\n",
              "            '<a target=\"_blank\" href=https://colab.research.google.com/notebooks/data_table.ipynb>data table notebook</a>'\n",
              "            + ' to learn more about interactive tables.';\n",
              "          element.innerHTML = '';\n",
              "          dataTable['output_type'] = 'display_data';\n",
              "          await google.colab.output.renderOutput(dataTable, element);\n",
              "          const docLink = document.createElement('div');\n",
              "          docLink.innerHTML = docLinkHtml;\n",
              "          element.appendChild(docLink);\n",
              "        }\n",
              "      </script>\n",
              "    </div>\n",
              "  </div>\n",
              "  "
            ]
          },
          "metadata": {},
          "execution_count": 5
        }
      ]
    },
    {
      "cell_type": "code",
      "source": [
        "strategy600 = all_stats600.groupby('agent-strategy-flag').mean().reset_index()\n",
        "strategy600 = strategy600.rename(columns = {'agent-strategy-flag':'Strategy', 'utility-value':'Avg Utility'})\n",
        "strategy600"
      ],
      "metadata": {
        "colab": {
          "base_uri": "https://localhost:8080/",
          "height": 368
        },
        "id": "d1N7dmbUZlxV",
        "outputId": "152c1562-9bd9-45d1-d6d0-e4b3697cfba5"
      },
      "execution_count": 6,
      "outputs": [
        {
          "output_type": "execute_result",
          "data": {
            "text/plain": [
              "   Strategy           id        income  income-group       wtp  \\\n",
              "0       1.0  2828.930233  27713.216063      0.837209  4.260227   \n",
              "1       2.0  2710.952381  29380.023132      0.952381  4.738486   \n",
              "2       3.0  2042.416667  33253.231803      1.166667  5.147592   \n",
              "3       4.0  2393.833333  25175.693021      0.777778  4.309675   \n",
              "4       5.0  1630.416667  23623.166264      0.833333  4.784594   \n",
              "5       6.0  2673.702703  29123.362938      0.864865  4.567902   \n",
              "6       7.0  2911.000000  33554.930978      1.166667  5.405669   \n",
              "\n",
              "   parking-offender?  distance-parking-target  price-paid  search-time  \\\n",
              "0           0.302326                15.752097    4.639535   643.534884   \n",
              "1           0.238095                15.104357    3.678571   681.666667   \n",
              "2           0.166667                18.718153    3.812500   656.333333   \n",
              "3           0.305556                11.091041    4.548611   703.750000   \n",
              "4           0.416667                26.162736    2.500000   767.333333   \n",
              "5           0.351351                16.888887    3.641892   660.945946   \n",
              "6           0.333333                19.368831    3.791667   614.333333   \n",
              "\n",
              "   wants-to-park  die?  reinitialize?  Avg Utility  mean-utility  \\\n",
              "0            1.0   1.0            1.0    -0.170588     -0.270184   \n",
              "1            1.0   1.0            1.0    -0.094506     -0.268248   \n",
              "2            1.0   1.0            1.0    -0.246212     -0.267332   \n",
              "3            1.0   1.0            1.0    -0.126387     -0.274053   \n",
              "4            1.0   1.0            1.0    -0.056518     -0.279531   \n",
              "5            1.0   1.0            1.0    -0.150971     -0.267697   \n",
              "6            1.0   1.0            1.0    -0.012757     -0.272451   \n",
              "\n",
              "   informed-flag  wait-time    park-time  switch-strategy-flag  \n",
              "0       1.604651        0.0  3162.658163                   0.0  \n",
              "1       1.333333        0.0  3611.182439                   0.0  \n",
              "2       1.333333        0.0  4100.477816                   0.0  \n",
              "3       1.611111        0.0  2968.580493                   0.0  \n",
              "4       1.500000        0.0  3263.406983                   0.0  \n",
              "5       0.000000        0.0  3741.699272                   0.0  \n",
              "6       0.000000        0.0  2973.876584                   0.0  "
            ],
            "text/html": [
              "\n",
              "  <div id=\"df-d528e06a-1415-4795-a42b-b75fb9b4e1c5\">\n",
              "    <div class=\"colab-df-container\">\n",
              "      <div>\n",
              "<style scoped>\n",
              "    .dataframe tbody tr th:only-of-type {\n",
              "        vertical-align: middle;\n",
              "    }\n",
              "\n",
              "    .dataframe tbody tr th {\n",
              "        vertical-align: top;\n",
              "    }\n",
              "\n",
              "    .dataframe thead th {\n",
              "        text-align: right;\n",
              "    }\n",
              "</style>\n",
              "<table border=\"1\" class=\"dataframe\">\n",
              "  <thead>\n",
              "    <tr style=\"text-align: right;\">\n",
              "      <th></th>\n",
              "      <th>Strategy</th>\n",
              "      <th>id</th>\n",
              "      <th>income</th>\n",
              "      <th>income-group</th>\n",
              "      <th>wtp</th>\n",
              "      <th>parking-offender?</th>\n",
              "      <th>distance-parking-target</th>\n",
              "      <th>price-paid</th>\n",
              "      <th>search-time</th>\n",
              "      <th>wants-to-park</th>\n",
              "      <th>die?</th>\n",
              "      <th>reinitialize?</th>\n",
              "      <th>Avg Utility</th>\n",
              "      <th>mean-utility</th>\n",
              "      <th>informed-flag</th>\n",
              "      <th>wait-time</th>\n",
              "      <th>park-time</th>\n",
              "      <th>switch-strategy-flag</th>\n",
              "    </tr>\n",
              "  </thead>\n",
              "  <tbody>\n",
              "    <tr>\n",
              "      <th>0</th>\n",
              "      <td>1.0</td>\n",
              "      <td>2828.930233</td>\n",
              "      <td>27713.216063</td>\n",
              "      <td>0.837209</td>\n",
              "      <td>4.260227</td>\n",
              "      <td>0.302326</td>\n",
              "      <td>15.752097</td>\n",
              "      <td>4.639535</td>\n",
              "      <td>643.534884</td>\n",
              "      <td>1.0</td>\n",
              "      <td>1.0</td>\n",
              "      <td>1.0</td>\n",
              "      <td>-0.170588</td>\n",
              "      <td>-0.270184</td>\n",
              "      <td>1.604651</td>\n",
              "      <td>0.0</td>\n",
              "      <td>3162.658163</td>\n",
              "      <td>0.0</td>\n",
              "    </tr>\n",
              "    <tr>\n",
              "      <th>1</th>\n",
              "      <td>2.0</td>\n",
              "      <td>2710.952381</td>\n",
              "      <td>29380.023132</td>\n",
              "      <td>0.952381</td>\n",
              "      <td>4.738486</td>\n",
              "      <td>0.238095</td>\n",
              "      <td>15.104357</td>\n",
              "      <td>3.678571</td>\n",
              "      <td>681.666667</td>\n",
              "      <td>1.0</td>\n",
              "      <td>1.0</td>\n",
              "      <td>1.0</td>\n",
              "      <td>-0.094506</td>\n",
              "      <td>-0.268248</td>\n",
              "      <td>1.333333</td>\n",
              "      <td>0.0</td>\n",
              "      <td>3611.182439</td>\n",
              "      <td>0.0</td>\n",
              "    </tr>\n",
              "    <tr>\n",
              "      <th>2</th>\n",
              "      <td>3.0</td>\n",
              "      <td>2042.416667</td>\n",
              "      <td>33253.231803</td>\n",
              "      <td>1.166667</td>\n",
              "      <td>5.147592</td>\n",
              "      <td>0.166667</td>\n",
              "      <td>18.718153</td>\n",
              "      <td>3.812500</td>\n",
              "      <td>656.333333</td>\n",
              "      <td>1.0</td>\n",
              "      <td>1.0</td>\n",
              "      <td>1.0</td>\n",
              "      <td>-0.246212</td>\n",
              "      <td>-0.267332</td>\n",
              "      <td>1.333333</td>\n",
              "      <td>0.0</td>\n",
              "      <td>4100.477816</td>\n",
              "      <td>0.0</td>\n",
              "    </tr>\n",
              "    <tr>\n",
              "      <th>3</th>\n",
              "      <td>4.0</td>\n",
              "      <td>2393.833333</td>\n",
              "      <td>25175.693021</td>\n",
              "      <td>0.777778</td>\n",
              "      <td>4.309675</td>\n",
              "      <td>0.305556</td>\n",
              "      <td>11.091041</td>\n",
              "      <td>4.548611</td>\n",
              "      <td>703.750000</td>\n",
              "      <td>1.0</td>\n",
              "      <td>1.0</td>\n",
              "      <td>1.0</td>\n",
              "      <td>-0.126387</td>\n",
              "      <td>-0.274053</td>\n",
              "      <td>1.611111</td>\n",
              "      <td>0.0</td>\n",
              "      <td>2968.580493</td>\n",
              "      <td>0.0</td>\n",
              "    </tr>\n",
              "    <tr>\n",
              "      <th>4</th>\n",
              "      <td>5.0</td>\n",
              "      <td>1630.416667</td>\n",
              "      <td>23623.166264</td>\n",
              "      <td>0.833333</td>\n",
              "      <td>4.784594</td>\n",
              "      <td>0.416667</td>\n",
              "      <td>26.162736</td>\n",
              "      <td>2.500000</td>\n",
              "      <td>767.333333</td>\n",
              "      <td>1.0</td>\n",
              "      <td>1.0</td>\n",
              "      <td>1.0</td>\n",
              "      <td>-0.056518</td>\n",
              "      <td>-0.279531</td>\n",
              "      <td>1.500000</td>\n",
              "      <td>0.0</td>\n",
              "      <td>3263.406983</td>\n",
              "      <td>0.0</td>\n",
              "    </tr>\n",
              "    <tr>\n",
              "      <th>5</th>\n",
              "      <td>6.0</td>\n",
              "      <td>2673.702703</td>\n",
              "      <td>29123.362938</td>\n",
              "      <td>0.864865</td>\n",
              "      <td>4.567902</td>\n",
              "      <td>0.351351</td>\n",
              "      <td>16.888887</td>\n",
              "      <td>3.641892</td>\n",
              "      <td>660.945946</td>\n",
              "      <td>1.0</td>\n",
              "      <td>1.0</td>\n",
              "      <td>1.0</td>\n",
              "      <td>-0.150971</td>\n",
              "      <td>-0.267697</td>\n",
              "      <td>0.000000</td>\n",
              "      <td>0.0</td>\n",
              "      <td>3741.699272</td>\n",
              "      <td>0.0</td>\n",
              "    </tr>\n",
              "    <tr>\n",
              "      <th>6</th>\n",
              "      <td>7.0</td>\n",
              "      <td>2911.000000</td>\n",
              "      <td>33554.930978</td>\n",
              "      <td>1.166667</td>\n",
              "      <td>5.405669</td>\n",
              "      <td>0.333333</td>\n",
              "      <td>19.368831</td>\n",
              "      <td>3.791667</td>\n",
              "      <td>614.333333</td>\n",
              "      <td>1.0</td>\n",
              "      <td>1.0</td>\n",
              "      <td>1.0</td>\n",
              "      <td>-0.012757</td>\n",
              "      <td>-0.272451</td>\n",
              "      <td>0.000000</td>\n",
              "      <td>0.0</td>\n",
              "      <td>2973.876584</td>\n",
              "      <td>0.0</td>\n",
              "    </tr>\n",
              "  </tbody>\n",
              "</table>\n",
              "</div>\n",
              "      <button class=\"colab-df-convert\" onclick=\"convertToInteractive('df-d528e06a-1415-4795-a42b-b75fb9b4e1c5')\"\n",
              "              title=\"Convert this dataframe to an interactive table.\"\n",
              "              style=\"display:none;\">\n",
              "        \n",
              "  <svg xmlns=\"http://www.w3.org/2000/svg\" height=\"24px\"viewBox=\"0 0 24 24\"\n",
              "       width=\"24px\">\n",
              "    <path d=\"M0 0h24v24H0V0z\" fill=\"none\"/>\n",
              "    <path d=\"M18.56 5.44l.94 2.06.94-2.06 2.06-.94-2.06-.94-.94-2.06-.94 2.06-2.06.94zm-11 1L8.5 8.5l.94-2.06 2.06-.94-2.06-.94L8.5 2.5l-.94 2.06-2.06.94zm10 10l.94 2.06.94-2.06 2.06-.94-2.06-.94-.94-2.06-.94 2.06-2.06.94z\"/><path d=\"M17.41 7.96l-1.37-1.37c-.4-.4-.92-.59-1.43-.59-.52 0-1.04.2-1.43.59L10.3 9.45l-7.72 7.72c-.78.78-.78 2.05 0 2.83L4 21.41c.39.39.9.59 1.41.59.51 0 1.02-.2 1.41-.59l7.78-7.78 2.81-2.81c.8-.78.8-2.07 0-2.86zM5.41 20L4 18.59l7.72-7.72 1.47 1.35L5.41 20z\"/>\n",
              "  </svg>\n",
              "      </button>\n",
              "      \n",
              "  <style>\n",
              "    .colab-df-container {\n",
              "      display:flex;\n",
              "      flex-wrap:wrap;\n",
              "      gap: 12px;\n",
              "    }\n",
              "\n",
              "    .colab-df-convert {\n",
              "      background-color: #E8F0FE;\n",
              "      border: none;\n",
              "      border-radius: 50%;\n",
              "      cursor: pointer;\n",
              "      display: none;\n",
              "      fill: #1967D2;\n",
              "      height: 32px;\n",
              "      padding: 0 0 0 0;\n",
              "      width: 32px;\n",
              "    }\n",
              "\n",
              "    .colab-df-convert:hover {\n",
              "      background-color: #E2EBFA;\n",
              "      box-shadow: 0px 1px 2px rgba(60, 64, 67, 0.3), 0px 1px 3px 1px rgba(60, 64, 67, 0.15);\n",
              "      fill: #174EA6;\n",
              "    }\n",
              "\n",
              "    [theme=dark] .colab-df-convert {\n",
              "      background-color: #3B4455;\n",
              "      fill: #D2E3FC;\n",
              "    }\n",
              "\n",
              "    [theme=dark] .colab-df-convert:hover {\n",
              "      background-color: #434B5C;\n",
              "      box-shadow: 0px 1px 3px 1px rgba(0, 0, 0, 0.15);\n",
              "      filter: drop-shadow(0px 1px 2px rgba(0, 0, 0, 0.3));\n",
              "      fill: #FFFFFF;\n",
              "    }\n",
              "  </style>\n",
              "\n",
              "      <script>\n",
              "        const buttonEl =\n",
              "          document.querySelector('#df-d528e06a-1415-4795-a42b-b75fb9b4e1c5 button.colab-df-convert');\n",
              "        buttonEl.style.display =\n",
              "          google.colab.kernel.accessAllowed ? 'block' : 'none';\n",
              "\n",
              "        async function convertToInteractive(key) {\n",
              "          const element = document.querySelector('#df-d528e06a-1415-4795-a42b-b75fb9b4e1c5');\n",
              "          const dataTable =\n",
              "            await google.colab.kernel.invokeFunction('convertToInteractive',\n",
              "                                                     [key], {});\n",
              "          if (!dataTable) return;\n",
              "\n",
              "          const docLinkHtml = 'Like what you see? Visit the ' +\n",
              "            '<a target=\"_blank\" href=https://colab.research.google.com/notebooks/data_table.ipynb>data table notebook</a>'\n",
              "            + ' to learn more about interactive tables.';\n",
              "          element.innerHTML = '';\n",
              "          dataTable['output_type'] = 'display_data';\n",
              "          await google.colab.output.renderOutput(dataTable, element);\n",
              "          const docLink = document.createElement('div');\n",
              "          docLink.innerHTML = docLinkHtml;\n",
              "          element.appendChild(docLink);\n",
              "        }\n",
              "      </script>\n",
              "    </div>\n",
              "  </div>\n",
              "  "
            ]
          },
          "metadata": {},
          "execution_count": 6
        }
      ]
    },
    {
      "cell_type": "code",
      "source": [
        "strategy300 = all_stats300.groupby('agent-strategy-flag').mean().reset_index()\n",
        "strategy300 = strategy300.rename(columns = {'agent-strategy-flag':'Strategy', 'utility-value':'Avg Utility'})\n",
        "strategy300"
      ],
      "metadata": {
        "colab": {
          "base_uri": "https://localhost:8080/",
          "height": 368
        },
        "id": "D6oagy-iZr3c",
        "outputId": "3d82854a-49f8-4f9d-8532-07dfc8cf60d1"
      },
      "execution_count": 7,
      "outputs": [
        {
          "output_type": "execute_result",
          "data": {
            "text/plain": [
              "   Strategy           id        income  income-group       wtp  \\\n",
              "0         1  1677.333333  32754.544473      0.958333  4.853530   \n",
              "1         2  1978.833333  30182.355931      0.916667  4.665560   \n",
              "2         3  1986.235294  28556.258261      0.941176  4.875071   \n",
              "3         4  2209.857143  33545.180516      1.000000  5.374990   \n",
              "4         5  3512.250000  23565.840591      0.750000  3.927301   \n",
              "5         6  2106.838710  28990.872943      0.903226  4.640824   \n",
              "6         7  2179.333333  31820.467762      1.000000  5.328763   \n",
              "\n",
              "   parking-offender?  distance-parking-target  price-paid  search-time  \\\n",
              "0           0.250000                15.134500    3.895833   417.375000   \n",
              "1           0.250000                15.987819    4.812500   395.250000   \n",
              "2           0.294118                19.012483    3.985294   391.411765   \n",
              "3           0.357143                 9.879676    5.910714   391.000000   \n",
              "4           0.500000                22.681326    2.375000   325.000000   \n",
              "5           0.096774                18.685350    3.241935   325.483871   \n",
              "6           0.333333                24.939540    3.166667   255.500000   \n",
              "\n",
              "   wants-to-park  die?  reinitialize?  Avg Utility  mean-utility  \\\n",
              "0            1.0   1.0            1.0    -0.080662     -0.281660   \n",
              "1            1.0   1.0            1.0    -0.081015     -0.278898   \n",
              "2            1.0   1.0            1.0    -0.229230     -0.285126   \n",
              "3            1.0   1.0            1.0    -0.181203     -0.295089   \n",
              "4            1.0   1.0            1.0    -0.049900     -0.295225   \n",
              "5            1.0   1.0            1.0    -0.122821     -0.288535   \n",
              "6            1.0   1.0            1.0    -0.108411     -0.285726   \n",
              "\n",
              "   informed-flag  wait-time    park-time  switch-strategy-flag  \n",
              "0       1.416667        0.0  4078.813466                   0.0  \n",
              "1       1.333333        0.0  2586.658309                   0.0  \n",
              "2       1.647059        0.0  3179.936983                   0.0  \n",
              "3       1.500000        0.0  2315.715294                   0.0  \n",
              "4       1.250000        0.0  2275.509725                   0.0  \n",
              "5       0.000000        0.0  2776.786006                   0.0  \n",
              "6       0.000000        0.0  3208.934617                   0.0  "
            ],
            "text/html": [
              "\n",
              "  <div id=\"df-faa2bf22-122a-4550-b806-195e404df03c\">\n",
              "    <div class=\"colab-df-container\">\n",
              "      <div>\n",
              "<style scoped>\n",
              "    .dataframe tbody tr th:only-of-type {\n",
              "        vertical-align: middle;\n",
              "    }\n",
              "\n",
              "    .dataframe tbody tr th {\n",
              "        vertical-align: top;\n",
              "    }\n",
              "\n",
              "    .dataframe thead th {\n",
              "        text-align: right;\n",
              "    }\n",
              "</style>\n",
              "<table border=\"1\" class=\"dataframe\">\n",
              "  <thead>\n",
              "    <tr style=\"text-align: right;\">\n",
              "      <th></th>\n",
              "      <th>Strategy</th>\n",
              "      <th>id</th>\n",
              "      <th>income</th>\n",
              "      <th>income-group</th>\n",
              "      <th>wtp</th>\n",
              "      <th>parking-offender?</th>\n",
              "      <th>distance-parking-target</th>\n",
              "      <th>price-paid</th>\n",
              "      <th>search-time</th>\n",
              "      <th>wants-to-park</th>\n",
              "      <th>die?</th>\n",
              "      <th>reinitialize?</th>\n",
              "      <th>Avg Utility</th>\n",
              "      <th>mean-utility</th>\n",
              "      <th>informed-flag</th>\n",
              "      <th>wait-time</th>\n",
              "      <th>park-time</th>\n",
              "      <th>switch-strategy-flag</th>\n",
              "    </tr>\n",
              "  </thead>\n",
              "  <tbody>\n",
              "    <tr>\n",
              "      <th>0</th>\n",
              "      <td>1</td>\n",
              "      <td>1677.333333</td>\n",
              "      <td>32754.544473</td>\n",
              "      <td>0.958333</td>\n",
              "      <td>4.853530</td>\n",
              "      <td>0.250000</td>\n",
              "      <td>15.134500</td>\n",
              "      <td>3.895833</td>\n",
              "      <td>417.375000</td>\n",
              "      <td>1.0</td>\n",
              "      <td>1.0</td>\n",
              "      <td>1.0</td>\n",
              "      <td>-0.080662</td>\n",
              "      <td>-0.281660</td>\n",
              "      <td>1.416667</td>\n",
              "      <td>0.0</td>\n",
              "      <td>4078.813466</td>\n",
              "      <td>0.0</td>\n",
              "    </tr>\n",
              "    <tr>\n",
              "      <th>1</th>\n",
              "      <td>2</td>\n",
              "      <td>1978.833333</td>\n",
              "      <td>30182.355931</td>\n",
              "      <td>0.916667</td>\n",
              "      <td>4.665560</td>\n",
              "      <td>0.250000</td>\n",
              "      <td>15.987819</td>\n",
              "      <td>4.812500</td>\n",
              "      <td>395.250000</td>\n",
              "      <td>1.0</td>\n",
              "      <td>1.0</td>\n",
              "      <td>1.0</td>\n",
              "      <td>-0.081015</td>\n",
              "      <td>-0.278898</td>\n",
              "      <td>1.333333</td>\n",
              "      <td>0.0</td>\n",
              "      <td>2586.658309</td>\n",
              "      <td>0.0</td>\n",
              "    </tr>\n",
              "    <tr>\n",
              "      <th>2</th>\n",
              "      <td>3</td>\n",
              "      <td>1986.235294</td>\n",
              "      <td>28556.258261</td>\n",
              "      <td>0.941176</td>\n",
              "      <td>4.875071</td>\n",
              "      <td>0.294118</td>\n",
              "      <td>19.012483</td>\n",
              "      <td>3.985294</td>\n",
              "      <td>391.411765</td>\n",
              "      <td>1.0</td>\n",
              "      <td>1.0</td>\n",
              "      <td>1.0</td>\n",
              "      <td>-0.229230</td>\n",
              "      <td>-0.285126</td>\n",
              "      <td>1.647059</td>\n",
              "      <td>0.0</td>\n",
              "      <td>3179.936983</td>\n",
              "      <td>0.0</td>\n",
              "    </tr>\n",
              "    <tr>\n",
              "      <th>3</th>\n",
              "      <td>4</td>\n",
              "      <td>2209.857143</td>\n",
              "      <td>33545.180516</td>\n",
              "      <td>1.000000</td>\n",
              "      <td>5.374990</td>\n",
              "      <td>0.357143</td>\n",
              "      <td>9.879676</td>\n",
              "      <td>5.910714</td>\n",
              "      <td>391.000000</td>\n",
              "      <td>1.0</td>\n",
              "      <td>1.0</td>\n",
              "      <td>1.0</td>\n",
              "      <td>-0.181203</td>\n",
              "      <td>-0.295089</td>\n",
              "      <td>1.500000</td>\n",
              "      <td>0.0</td>\n",
              "      <td>2315.715294</td>\n",
              "      <td>0.0</td>\n",
              "    </tr>\n",
              "    <tr>\n",
              "      <th>4</th>\n",
              "      <td>5</td>\n",
              "      <td>3512.250000</td>\n",
              "      <td>23565.840591</td>\n",
              "      <td>0.750000</td>\n",
              "      <td>3.927301</td>\n",
              "      <td>0.500000</td>\n",
              "      <td>22.681326</td>\n",
              "      <td>2.375000</td>\n",
              "      <td>325.000000</td>\n",
              "      <td>1.0</td>\n",
              "      <td>1.0</td>\n",
              "      <td>1.0</td>\n",
              "      <td>-0.049900</td>\n",
              "      <td>-0.295225</td>\n",
              "      <td>1.250000</td>\n",
              "      <td>0.0</td>\n",
              "      <td>2275.509725</td>\n",
              "      <td>0.0</td>\n",
              "    </tr>\n",
              "    <tr>\n",
              "      <th>5</th>\n",
              "      <td>6</td>\n",
              "      <td>2106.838710</td>\n",
              "      <td>28990.872943</td>\n",
              "      <td>0.903226</td>\n",
              "      <td>4.640824</td>\n",
              "      <td>0.096774</td>\n",
              "      <td>18.685350</td>\n",
              "      <td>3.241935</td>\n",
              "      <td>325.483871</td>\n",
              "      <td>1.0</td>\n",
              "      <td>1.0</td>\n",
              "      <td>1.0</td>\n",
              "      <td>-0.122821</td>\n",
              "      <td>-0.288535</td>\n",
              "      <td>0.000000</td>\n",
              "      <td>0.0</td>\n",
              "      <td>2776.786006</td>\n",
              "      <td>0.0</td>\n",
              "    </tr>\n",
              "    <tr>\n",
              "      <th>6</th>\n",
              "      <td>7</td>\n",
              "      <td>2179.333333</td>\n",
              "      <td>31820.467762</td>\n",
              "      <td>1.000000</td>\n",
              "      <td>5.328763</td>\n",
              "      <td>0.333333</td>\n",
              "      <td>24.939540</td>\n",
              "      <td>3.166667</td>\n",
              "      <td>255.500000</td>\n",
              "      <td>1.0</td>\n",
              "      <td>1.0</td>\n",
              "      <td>1.0</td>\n",
              "      <td>-0.108411</td>\n",
              "      <td>-0.285726</td>\n",
              "      <td>0.000000</td>\n",
              "      <td>0.0</td>\n",
              "      <td>3208.934617</td>\n",
              "      <td>0.0</td>\n",
              "    </tr>\n",
              "  </tbody>\n",
              "</table>\n",
              "</div>\n",
              "      <button class=\"colab-df-convert\" onclick=\"convertToInteractive('df-faa2bf22-122a-4550-b806-195e404df03c')\"\n",
              "              title=\"Convert this dataframe to an interactive table.\"\n",
              "              style=\"display:none;\">\n",
              "        \n",
              "  <svg xmlns=\"http://www.w3.org/2000/svg\" height=\"24px\"viewBox=\"0 0 24 24\"\n",
              "       width=\"24px\">\n",
              "    <path d=\"M0 0h24v24H0V0z\" fill=\"none\"/>\n",
              "    <path d=\"M18.56 5.44l.94 2.06.94-2.06 2.06-.94-2.06-.94-.94-2.06-.94 2.06-2.06.94zm-11 1L8.5 8.5l.94-2.06 2.06-.94-2.06-.94L8.5 2.5l-.94 2.06-2.06.94zm10 10l.94 2.06.94-2.06 2.06-.94-2.06-.94-.94-2.06-.94 2.06-2.06.94z\"/><path d=\"M17.41 7.96l-1.37-1.37c-.4-.4-.92-.59-1.43-.59-.52 0-1.04.2-1.43.59L10.3 9.45l-7.72 7.72c-.78.78-.78 2.05 0 2.83L4 21.41c.39.39.9.59 1.41.59.51 0 1.02-.2 1.41-.59l7.78-7.78 2.81-2.81c.8-.78.8-2.07 0-2.86zM5.41 20L4 18.59l7.72-7.72 1.47 1.35L5.41 20z\"/>\n",
              "  </svg>\n",
              "      </button>\n",
              "      \n",
              "  <style>\n",
              "    .colab-df-container {\n",
              "      display:flex;\n",
              "      flex-wrap:wrap;\n",
              "      gap: 12px;\n",
              "    }\n",
              "\n",
              "    .colab-df-convert {\n",
              "      background-color: #E8F0FE;\n",
              "      border: none;\n",
              "      border-radius: 50%;\n",
              "      cursor: pointer;\n",
              "      display: none;\n",
              "      fill: #1967D2;\n",
              "      height: 32px;\n",
              "      padding: 0 0 0 0;\n",
              "      width: 32px;\n",
              "    }\n",
              "\n",
              "    .colab-df-convert:hover {\n",
              "      background-color: #E2EBFA;\n",
              "      box-shadow: 0px 1px 2px rgba(60, 64, 67, 0.3), 0px 1px 3px 1px rgba(60, 64, 67, 0.15);\n",
              "      fill: #174EA6;\n",
              "    }\n",
              "\n",
              "    [theme=dark] .colab-df-convert {\n",
              "      background-color: #3B4455;\n",
              "      fill: #D2E3FC;\n",
              "    }\n",
              "\n",
              "    [theme=dark] .colab-df-convert:hover {\n",
              "      background-color: #434B5C;\n",
              "      box-shadow: 0px 1px 3px 1px rgba(0, 0, 0, 0.15);\n",
              "      filter: drop-shadow(0px 1px 2px rgba(0, 0, 0, 0.3));\n",
              "      fill: #FFFFFF;\n",
              "    }\n",
              "  </style>\n",
              "\n",
              "      <script>\n",
              "        const buttonEl =\n",
              "          document.querySelector('#df-faa2bf22-122a-4550-b806-195e404df03c button.colab-df-convert');\n",
              "        buttonEl.style.display =\n",
              "          google.colab.kernel.accessAllowed ? 'block' : 'none';\n",
              "\n",
              "        async function convertToInteractive(key) {\n",
              "          const element = document.querySelector('#df-faa2bf22-122a-4550-b806-195e404df03c');\n",
              "          const dataTable =\n",
              "            await google.colab.kernel.invokeFunction('convertToInteractive',\n",
              "                                                     [key], {});\n",
              "          if (!dataTable) return;\n",
              "\n",
              "          const docLinkHtml = 'Like what you see? Visit the ' +\n",
              "            '<a target=\"_blank\" href=https://colab.research.google.com/notebooks/data_table.ipynb>data table notebook</a>'\n",
              "            + ' to learn more about interactive tables.';\n",
              "          element.innerHTML = '';\n",
              "          dataTable['output_type'] = 'display_data';\n",
              "          await google.colab.output.renderOutput(dataTable, element);\n",
              "          const docLink = document.createElement('div');\n",
              "          docLink.innerHTML = docLinkHtml;\n",
              "          element.appendChild(docLink);\n",
              "        }\n",
              "      </script>\n",
              "    </div>\n",
              "  </div>\n",
              "  "
            ]
          },
          "metadata": {},
          "execution_count": 7
        }
      ]
    },
    {
      "cell_type": "code",
      "source": [
        "x = strategy500['Strategy']\n",
        "y = strategy500['price-paid']\n",
        "ax = sns.set_palette(palette='Blues')\n",
        "ax = sns.barplot(x=x, y=y, data=strategy500, palette='Blues')\n",
        "ax.set_xlabel('Strategy', fontsize=15)\n",
        "ax.set_ylabel('Price Paid', fontsize=15)\n",
        "ax.set_title('Average Price Paid per Strategy', fontsize=15)\n",
        "# ax.legend(labels=[\"SM\",\"PRV\", \"DR\", \"NG\", \"AL\", \"UDR\", \"UAL\"], title = \"Strategies\")"
      ],
      "metadata": {
        "colab": {
          "base_uri": "https://localhost:8080/",
          "height": 319
        },
        "id": "9HvgISjZR7kq",
        "outputId": "bf4773d9-6383-4e11-cc9f-64aa2b76f5e2"
      },
      "execution_count": 61,
      "outputs": [
        {
          "output_type": "execute_result",
          "data": {
            "text/plain": [
              "Text(0.5, 1.0, 'Average Price Paid per Strategy')"
            ]
          },
          "metadata": {},
          "execution_count": 61
        },
        {
          "output_type": "display_data",
          "data": {
            "text/plain": [
              "<Figure size 432x288 with 1 Axes>"
            ],
            "image/png": "[encoded data removed]"
          },
          "metadata": {
            "needs_background": "light"
          }
        }
      ]
    },
    {
      "cell_type": "code",
      "source": [
        "x = strategy300['Strategy']\n",
        "y = strategy300['price-paid']\n",
        "ax = sns.set_palette(palette='Blues')\n",
        "ax = sns.barplot(x=x, y=y, data=strategy300, palette='Blues')\n",
        "ax.set_xlabel('Strategy', fontsize=15)\n",
        "ax.set_ylabel('Price Paid', fontsize=15)\n",
        "ax.set_title('Average Price Paid per Strategy', fontsize=15)\n",
        "# ax.legend(labels=[\"SM\",\"PRV\", \"DR\", \"NG\", \"AL\", \"UDR\", \"UAL\"], title = \"Strategies\")"
      ],
      "metadata": {
        "colab": {
          "base_uri": "https://localhost:8080/",
          "height": 319
        },
        "id": "1TlxuE3obnEa",
        "outputId": "1eb0ecd1-3bfa-41de-ca2c-0fd186c16df2"
      },
      "execution_count": 62,
      "outputs": [
        {
          "output_type": "execute_result",
          "data": {
            "text/plain": [
              "Text(0.5, 1.0, 'Average Price Paid per Strategy')"
            ]
          },
          "metadata": {},
          "execution_count": 62
        },
        {
          "output_type": "display_data",
          "data": {
            "text/plain": [
              "<Figure size 432x288 with 1 Axes>"
            ],
            "image/png": "[encoded data removed]"
          },
          "metadata": {
            "needs_background": "light"
          }
        }
      ]
    },
    {
      "cell_type": "code",
      "source": [
        "x = strategy600['Strategy']\n",
        "y = strategy600['price-paid']\n",
        "ax = sns.set_palette(palette='Blues')\n",
        "ax = sns.barplot(x=x, y=y, data=strategy600, palette='Blues')\n",
        "ax.set_xlabel('Strategy', fontsize=15)\n",
        "ax.set_ylabel('Price Paid', fontsize=15)\n",
        "ax.set_title('Average Price Paid per Strategy', fontsize=15)\n",
        "ax.legend(labels=[\"1. Same Place\",\"2. Private Park\", \"3. Destination Reach (DR)\", \"4. Nearest Goal\", \"5. Active Lookup (AL)\", \"6. Uninformd DR\", \"7. Uninformed AL\"], title = \"Strategies\", fontsize=14, ) # , loc = 2, bbox_to_anchor = (1,1)\n",
        "# ax.legend(labels=[\"SM\",\"PRV\", \"DR\", \"NG\", \"AL\", \"UDR\", \"UAL\"], title = \"Strategies\")"
      ],
      "metadata": {
        "colab": {
          "base_uri": "https://localhost:8080/",
          "height": 319
        },
        "id": "0dBudkwgbwO1",
        "outputId": "68869586-2a7d-4274-fd63-06dfaed42a2e"
      },
      "execution_count": 70,
      "outputs": [
        {
          "output_type": "execute_result",
          "data": {
            "text/plain": [
              "<matplotlib.legend.Legend at 0x7f648e2f7dd0>"
            ]
          },
          "metadata": {},
          "execution_count": 70
        },
        {
          "output_type": "display_data",
          "data": {
            "text/plain": [
              "<Figure size 432x288 with 1 Axes>"
            ],
            "image/png": "[encoded data removed]"
          },
          "metadata": {
            "needs_background": "light"
          }
        }
      ]
    },
    {
      "cell_type": "code",
      "source": [
        "x = strategy500['Strategy']\n",
        "y = strategy500['parking-offender?']\n",
        "ax = sns.set_palette(palette='Blues')\n",
        "ax = sns.barplot(x=x, y=y, data=strategy500, palette='Blues')\n",
        "ax.set_xlabel('Strategy', fontsize=15)\n",
        "ax.set_ylabel('Parking Offenders', fontsize=15)\n",
        "ax.set_title('Parking Offenders per Strategy', fontsize=15)\n",
        "# ax.legend(labels=[\"1. Same Place\",\"2. Private Park\", \"3. Destination Reach\", \"4. Nearest Goal\", \"5. Active Lookup \", \"6. Uninformd Destination Reach\", \"7. Uninformed Active Lookup\"], title = \"Strategies\", loc = 2, bbox_to_anchor = (1,1))"
      ],
      "metadata": {
        "colab": {
          "base_uri": "https://localhost:8080/",
          "height": 319
        },
        "id": "EnRI-d2tR7sr",
        "outputId": "870a54f1-d492-4495-e3e7-12e4bbeaae1d"
      },
      "execution_count": 71,
      "outputs": [
        {
          "output_type": "execute_result",
          "data": {
            "text/plain": [
              "Text(0.5, 1.0, 'Parking Offenders per Strategy')"
            ]
          },
          "metadata": {},
          "execution_count": 71
        },
        {
          "output_type": "display_data",
          "data": {
            "text/plain": [
              "<Figure size 432x288 with 1 Axes>"
            ],
            "image/png": "[encoded data removed]"
          },
          "metadata": {
            "needs_background": "light"
          }
        }
      ]
    },
    {
      "cell_type": "code",
      "source": [
        "x = strategy300['Strategy']\n",
        "y = strategy300['parking-offender?']\n",
        "ax = sns.set_palette(palette='Blues')\n",
        "ax = sns.barplot(x=x, y=y, data=strategy300, palette='Blues')\n",
        "ax.set_xlabel('Strategy', fontsize=15)\n",
        "ax.set_ylabel('Parking Offenders', fontsize=15)\n",
        "ax.set_title('Parking Offenders per Strategy', fontsize=15)\n",
        "# ax.legend(labels=[\"1. Same Place\",\"2. Private Park\", \"3. Destination Reach\", \"4. Nearest Goal\", \"5. Active Lookup \", \"6. Uninformd Destination Reach\", \"7. Uninformed Active Lookup\"], title = \"Strategies\", loc = 2, bbox_to_anchor = (1,1))"
      ],
      "metadata": {
        "id": "IqgIxfcRR7yi",
        "colab": {
          "base_uri": "https://localhost:8080/",
          "height": 319
        },
        "outputId": "82444935-165f-40ac-e3af-ccc94097e59d"
      },
      "execution_count": 72,
      "outputs": [
        {
          "output_type": "execute_result",
          "data": {
            "text/plain": [
              "Text(0.5, 1.0, 'Parking Offenders per Strategy')"
            ]
          },
          "metadata": {},
          "execution_count": 72
        },
        {
          "output_type": "display_data",
          "data": {
            "text/plain": [
              "<Figure size 432x288 with 1 Axes>"
            ],
            "image/png": "[encoded data removed]"
          },
          "metadata": {
            "needs_background": "light"
          }
        }
      ]
    },
    {
      "cell_type": "code",
      "source": [
        "x = strategy600['Strategy']\n",
        "y = strategy600['parking-offender?']\n",
        "ax = sns.set_palette(palette='Blues')\n",
        "ax = sns.barplot(x=x, y=y, data=strategy600, palette='Blues')\n",
        "ax.set_xlabel('Strategy', fontsize=15)\n",
        "ax.set_ylabel('Parking Offenders', fontsize=15)\n",
        "ax.set_title('Parking Offenders per Strategy', fontsize=15)\n",
        "ax.legend(labels=[\"1. Same Place\",\"2. Private Park\", \"3. Destination Reach (DR)\", \"4. Nearest Goal\", \"5. Active Lookup (AL)\", \"6. Uninformd DR\", \"7. Uninformed AL\"], title = \"Strategies\", loc = 1, fontsize=14) # , loc = 2, bbox_to_anchor = (1,1)\n",
        "# ax.legend(labels=[\"1. Same Place\",\"2. Private Park\", \"3. Destination Reach\", \"4. Nearest Goal\", \"5. Active Lookup \", \"6. Uninformd Destination Reach\", \"7. Uninformed Active Lookup\"], title = \"Strategies\", loc = 2, bbox_to_anchor = (1,1))"
      ],
      "metadata": {
        "id": "LTKCwtlER73_",
        "colab": {
          "base_uri": "https://localhost:8080/",
          "height": 319
        },
        "outputId": "d48d031b-2cdb-4fbf-de68-824bc849290f"
      },
      "execution_count": 73,
      "outputs": [
        {
          "output_type": "execute_result",
          "data": {
            "text/plain": [
              "<matplotlib.legend.Legend at 0x7f648e297a50>"
            ]
          },
          "metadata": {},
          "execution_count": 73
        },
        {
          "output_type": "display_data",
          "data": {
            "text/plain": [
              "<Figure size 432x288 with 1 Axes>"
            ],
            "image/png": "[encoded data removed]"
          },
          "metadata": {
            "needs_background": "light"
          }
        }
      ]
    },
    {
      "cell_type": "code",
      "source": [
        "x = strategy500['Strategy']\n",
        "y = strategy500['Avg Utility']\n",
        "ax = sns.set_palette(palette='Blues')\n",
        "ax = sns.barplot(x=x, y=y, data=strategy500, palette='Blues')\n",
        "ax.set_xlabel('Strategy', fontsize=15)\n",
        "ax.set_ylabel('Utility', fontsize=15)\n",
        "ax.set_title('Average Utility per Strategy', fontsize=15)"
      ],
      "metadata": {
        "colab": {
          "base_uri": "https://localhost:8080/",
          "height": 319
        },
        "id": "gS8YWUoVeJDQ",
        "outputId": "7f519c1e-6893-4c9f-aca6-5aac965b9d56"
      },
      "execution_count": 10,
      "outputs": [
        {
          "output_type": "execute_result",
          "data": {
            "text/plain": [
              "Text(0.5, 1.0, 'Average Utility per Strategy')"
            ]
          },
          "metadata": {},
          "execution_count": 10
        },
        {
          "output_type": "display_data",
          "data": {
            "text/plain": [
              "<Figure size 432x288 with 1 Axes>"
            ],
            "image/png": "[encoded data removed]"
          },
          "metadata": {
            "needs_background": "light"
          }
        }
      ]
    },
    {
      "cell_type": "code",
      "source": [
        "x = strategy300['Strategy']\n",
        "y = strategy300['Avg Utility']\n",
        "ax = sns.set_palette(palette='Blues')\n",
        "ax = sns.barplot(x=x, y=y, data=strategy300, palette='Blues')\n",
        "ax.set_xlabel('Strategy', fontsize=15)\n",
        "ax.set_ylabel('Utility', fontsize=15)\n",
        "ax.set_title('Average Utility per Strategy', fontsize=15)"
      ],
      "metadata": {
        "colab": {
          "base_uri": "https://localhost:8080/",
          "height": 319
        },
        "id": "-wH1glMMeynO",
        "outputId": "dcf86800-ea98-49d3-abe5-e92aac85a449"
      },
      "execution_count": 11,
      "outputs": [
        {
          "output_type": "execute_result",
          "data": {
            "text/plain": [
              "Text(0.5, 1.0, 'Average Utility per Strategy')"
            ]
          },
          "metadata": {},
          "execution_count": 11
        },
        {
          "output_type": "display_data",
          "data": {
            "text/plain": [
              "<Figure size 432x288 with 1 Axes>"
            ],
            "image/png": "[encoded data removed]"
          },
          "metadata": {
            "needs_background": "light"
          }
        }
      ]
    },
    {
      "cell_type": "code",
      "source": [
        "x = strategy600['Strategy']\n",
        "y = strategy600['Avg Utility']\n",
        "ax = sns.set_palette(palette='Blues')\n",
        "ax = sns.barplot(x=x, y=y, data=strategy600, palette='Blues')\n",
        "ax.set_xlabel('Strategy', fontsize=15)\n",
        "ax.set_ylabel('Utility', fontsize=15)\n",
        "ax.set_title('Average Utility per Strategy', fontsize=15)\n",
        "ax.legend(labels=[\"1. Same Place\",\"2. Private Park\", \"3. Destination Reach (DR)\", \"4. Nearest Goal\", \"5. Active Lookup (AL)\", \"6. Uninformd DR\", \"7. Uninformed AL\"], title = \"Strategies\", loc = 1, fontsize=14) # , loc = 2, bbox_to_anchor = (1,1)"
      ],
      "metadata": {
        "colab": {
          "base_uri": "https://localhost:8080/",
          "height": 319
        },
        "id": "5cRBGWvXeytn",
        "outputId": "1952d756-aa99-4959-ad46-8a33745600bf"
      },
      "execution_count": 8,
      "outputs": [
        {
          "output_type": "execute_result",
          "data": {
            "text/plain": [
              "<matplotlib.legend.Legend at 0x7fd1e7c51a50>"
            ]
          },
          "metadata": {},
          "execution_count": 8
        },
        {
          "output_type": "display_data",
          "data": {
            "text/plain": [
              "<Figure size 432x288 with 1 Axes>"
            ],
            "image/png": "[encoded data removed]"
          },
          "metadata": {
            "needs_background": "light"
          }
        }
      ]
    }
  ]
}